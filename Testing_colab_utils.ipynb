{
  "nbformat": 4,
  "nbformat_minor": 0,
  "metadata": {
    "colab": {
      "name": "Testing colab_utils",
      "provenance": [],
      "collapsed_sections": [],
      "include_colab_link": true
    },
    "kernelspec": {
      "name": "python3",
      "display_name": "Python 3"
    }
  },
  "cells": [
    {
      "cell_type": "markdown",
      "metadata": {
        "id": "view-in-github",
        "colab_type": "text"
      },
      "source": [
        "<a href=\"https://colab.research.google.com/github/ricardodeazambuja/colab_utils/blob/master/Testing_colab_utils.ipynb\" target=\"_parent\"><img src=\"https://colab.research.google.com/assets/colab-badge.svg\" alt=\"Open In Colab\"/></a>"
      ]
    },
    {
      "cell_type": "markdown",
      "metadata": {
        "id": "_OoFk6vb-D2z",
        "colab_type": "text"
      },
      "source": [
        "More details read the post on my blog:  \n",
        "https://ricardodeazambuja.com/deep_learning/2020/04/09/colab-utils/  \n",
        "or go to the github repo:  \n",
        "https://github.com/ricardodeazambuja/colab_utils\n",
        "\n",
        "A lot of inspiration for the stuff presented here came from:  \n",
        "https://colab.research.google.com/notebooks/snippets/advanced_outputs.ipynb"
      ]
    },
    {
      "cell_type": "code",
      "metadata": {
        "id": "R-CK1LYpS6g4",
        "colab_type": "code",
        "colab": {}
      },
      "source": [
        "!pip install git+git://github.com/ricardodeazambuja/colab_utils.git"
      ],
      "execution_count": 0,
      "outputs": []
    },
    {
      "cell_type": "code",
      "metadata": {
        "id": "E15DmrUuTP-l",
        "colab_type": "code",
        "colab": {}
      },
      "source": [
        "from colab_utils import webcam2numpy, labelImage, getAudio, copy2clipboard, imshow, videoGrabber"
      ],
      "execution_count": 0,
      "outputs": []
    },
    {
      "cell_type": "markdown",
      "metadata": {
        "id": "XsCsPIDLgoGw",
        "colab_type": "text"
      },
      "source": [
        "## First example: grab an image directly from the webcam and export as a numpy array"
      ]
    },
    {
      "cell_type": "code",
      "metadata": {
        "id": "f-lEbDNoOclt",
        "colab_type": "code",
        "colab": {}
      },
      "source": [
        "img_np = webcam2numpy()"
      ],
      "execution_count": 0,
      "outputs": []
    },
    {
      "cell_type": "markdown",
      "metadata": {
        "id": "MRMvz3Wogxmd",
        "colab_type": "text"
      },
      "source": [
        "## Second example: annotate an image"
      ]
    },
    {
      "cell_type": "code",
      "metadata": {
        "id": "50xlRrpyOjKz",
        "colab_type": "code",
        "colab": {}
      },
      "source": [
        "annotations = labelImage(img_np, deleteAfter=False)\n",
        "print(f\"And here are the annotations: \\n {annotations}\")"
      ],
      "execution_count": 0,
      "outputs": []
    },
    {
      "cell_type": "markdown",
      "metadata": {
        "id": "qxabsTV23ct0",
        "colab_type": "text"
      },
      "source": [
        "### And visualize it"
      ]
    },
    {
      "cell_type": "code",
      "metadata": {
        "id": "tIEbEgbA3aZz",
        "colab_type": "code",
        "colab": {}
      },
      "source": [
        "from PIL import Image, ImageDraw\n",
        "\n",
        "img = Image.fromarray(img_np)\n",
        "draw = ImageDraw.Draw(img)\n",
        "w,h = img.size\n",
        "for annotation in annotations:\n",
        "  text = annotation[1]\n",
        "  annotation = annotation[0]\n",
        "  draw.rectangle([annotation[0]*w, annotation[1]*h, (annotation[0]+annotation[2])*w, (annotation[1]+annotation[3])*h], fill=None, outline=\"red\", width=2)\n",
        "  draw.text((annotation[0]*w+2, annotation[1]*h+2), str(text), fill=\"red\")\n",
        "img"
      ],
      "execution_count": 0,
      "outputs": []
    },
    {
      "cell_type": "markdown",
      "metadata": {
        "id": "Yp65EtbLg_4B",
        "colab_type": "text"
      },
      "source": [
        "## Third example: load a local file or something from git (like below) directly into the clipboard so it's possible to paste directly into any cell (tested only with pure text files...)."
      ]
    },
    {
      "cell_type": "code",
      "metadata": {
        "id": "aL8cAb1DSHcq",
        "colab_type": "code",
        "colab": {}
      },
      "source": [
        "copy2clipboard(\"https://raw.githubusercontent.com/ricardodeazambuja/YAMSPy/master/setup.py\")"
      ],
      "execution_count": 0,
      "outputs": []
    },
    {
      "cell_type": "markdown",
      "metadata": {
        "id": "-N1Ky-75hTDh",
        "colab_type": "text"
      },
      "source": [
        "## Fourth example: show images like cv2.imshow so you can generate some slow animations or see the output while a cell is still running."
      ]
    },
    {
      "cell_type": "code",
      "metadata": {
        "id": "mrqkb7xUSLgO",
        "colab_type": "code",
        "colab": {}
      },
      "source": [
        "!wget https://cdn.pixabay.com/photo/2012/03/01/00/55/flowers-19830_960_720.jpg -O fig1.jpg"
      ],
      "execution_count": 0,
      "outputs": []
    },
    {
      "cell_type": "code",
      "metadata": {
        "id": "Tbp2QJohTTzt",
        "colab_type": "code",
        "colab": {}
      },
      "source": [
        "!wget https://cdn.pixabay.com/photo/2020/04/10/10/49/eichhornia-crassipes-5025205_960_720.jpg  -O fig2.jpg"
      ],
      "execution_count": 0,
      "outputs": []
    },
    {
      "cell_type": "code",
      "metadata": {
        "id": "-buU_4GuTxkA",
        "colab_type": "code",
        "colab": {}
      },
      "source": [
        "import cv2\n",
        "\n",
        "font = cv2.FONT_HERSHEY_SIMPLEX\n",
        "\n",
        "for i in range(10):\n",
        "  if i % 2:\n",
        "    img = cv2.imread('fig1.jpg')\n",
        "  else:\n",
        "    img = cv2.imread('fig2.jpg')\n",
        "\n",
        "  h, w, _ = img.shape\n",
        "  img = cv2.cvtColor(img, cv2.COLOR_BGR2RGB)\n",
        "  cv2.putText(img, f'i={i}', (5,h - 50), font, 3, (0, 255, 0), 2, cv2.LINE_AA)\n",
        "  imshow(img, width=300, height=300)"
      ],
      "execution_count": 0,
      "outputs": []
    },
    {
      "cell_type": "markdown",
      "metadata": {
        "id": "awTqSq70hqHk",
        "colab_type": "text"
      },
      "source": [
        "## Last example: grab an image (timelapse) from your webcam, modify and show it while the cell is still running."
      ]
    },
    {
      "cell_type": "code",
      "metadata": {
        "id": "2iAoQl7ofzaY",
        "colab_type": "code",
        "colab": {}
      },
      "source": [
        "# just to make it fancier, let's download a font\n",
        "!wget -c https://www.1001freefonts.com/d/24228/friendly-schoolmates.zip\n",
        "!unzip  friendly-schoolmates.zip > /dev/null"
      ],
      "execution_count": 0,
      "outputs": []
    },
    {
      "cell_type": "code",
      "metadata": {
        "id": "_MtDOJr2fIur",
        "colab_type": "code",
        "colab": {}
      },
      "source": [
        "from PIL import Image, ImageDraw, ImageFont\n",
        "\n",
        "font = ImageFont.truetype(\"Friendly Schoolmates (Regular) Font by Situjuh (7NTypes).otf\", 50)\n",
        "\n",
        "vid = videoGrabber(showVideo=False)\n",
        "img_list = []\n",
        "for i in range(10):\n",
        "  img = vid(0)\n",
        "  draw = ImageDraw.Draw(img)\n",
        "  draw.text((10, 10), f\"Image capture number {str(i)}\", font=font)\n",
        "  imshow(img)\n",
        "vid(stop=True)"
      ],
      "execution_count": 0,
      "outputs": []
    }
  ]
}